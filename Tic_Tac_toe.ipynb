{
 "cells": [
  {
   "cell_type": "markdown",
   "metadata": {},
   "source": [
    "# Milestone Project 1: Walkthrough Steps Workbook\n",
    "\n",
    "Below is a set of steps for you to follow to try to create the Tic Tac Toe Milestone Project game!"
   ]
  },
  {
   "cell_type": "markdown",
   "metadata": {},
   "source": [
    "#### Some suggested tools before you get started:\n",
    "To take input from a user:\n",
    "\n",
    "    player1 = input(\"Please pick a marker 'X' or 'O'\")\n",
    "    \n",
    "Note that input() takes in a string. If you need an integer value, use\n",
    "\n",
    "    position = int(input('Please enter a number'))\n",
    "    \n",
    "<br>To clear the screen between moves:\n",
    "\n",
    "    from IPython.display import clear_output\n",
    "    clear_output()\n",
    "    \n",
    "Note that clear_output() will only work in jupyter. To clear the screen in other IDEs, consider:\n",
    "\n",
    "    print('\\n'*100)\n",
    "    \n",
    "This scrolls the previous board up out of view. Now on to the program!"
   ]
  },
  {
   "cell_type": "markdown",
   "metadata": {},
   "source": [
    "**Step 1: Write a function that can print out a board. Set up your board as a list, where each index 1-9 corresponds with a number on a number pad, so you get a 3 by 3 board representation.**"
   ]
  },
  {
   "cell_type": "code",
   "execution_count": 1,
   "metadata": {},
   "outputs": [],
   "source": [
    "from IPython.display import clear_output\n",
    "\n",
    "def display_board(board): \n",
    "    '''\n",
    "    displays board\n",
    "    '''\n",
    "    clear_output()\n",
    "    print(\" \"+board[7]+\" |\"+\" \"+board[8]+\" |\"+\" \"+board[9])\n",
    "    print(\"---|---|---\")\n",
    "    print(\" \"+board[4]+\" |\"+\" \"+board[5]+\" |\"+\" \"+board[6])\n",
    "    print(\"---|---|---\")\n",
    "    print(\" \"+board[1]+\" |\"+\" \"+board[2]+\" |\"+\" \"+board[3])"
   ]
  },
  {
   "cell_type": "markdown",
   "metadata": {},
   "source": [
    "**TEST Step 1:** run your function on a test version of the board list, and make adjustments as necessary"
   ]
  },
  {
   "cell_type": "code",
   "execution_count": 2,
   "metadata": {},
   "outputs": [
    {
     "name": "stdout",
     "output_type": "stream",
     "text": [
      " O |   | O\n",
      "---|---|---\n",
      " O | X | O\n",
      "---|---|---\n",
      " O | O | X\n"
     ]
    }
   ],
   "source": [
    "test_board = [' ','O','O','X','O','X','O','O',' ','O']\n",
    "display_board(test_board)"
   ]
  },
  {
   "cell_type": "markdown",
   "metadata": {},
   "source": [
    "**Step 2: Write a function that can take in a player input and assign their marker as 'X' or 'O'. Think about using *while* loops to continually ask until you get a correct answer.**"
   ]
  },
  {
   "cell_type": "code",
   "execution_count": 3,
   "metadata": {},
   "outputs": [],
   "source": [
    "def player_input():\n",
    "    '''\n",
    "    returns (player1_marker,player2_marker)\n",
    "    \n",
    "    '''\n",
    "    \n",
    "    marker=\"\"\n",
    "    while marker !=\"X\" and marker!=\"O\":\n",
    "        marker=input(\"Player1 one choose 'X' or 'O': \")\n",
    "        player1 = marker\n",
    "        \n",
    "    if player1 == \"X\":\n",
    "        player2 = \"O\"\n",
    "    else:\n",
    "        player2 = \"X\"\n",
    "    return (player1,player2)\n",
    "#player_input()"
   ]
  },
  {
   "cell_type": "markdown",
   "metadata": {},
   "source": [
    "**TEST Step 2:** run the function to make sure it returns the desired output"
   ]
  },
  {
   "cell_type": "code",
   "execution_count": 4,
   "metadata": {},
   "outputs": [],
   "source": [
    "#player_input()"
   ]
  },
  {
   "cell_type": "markdown",
   "metadata": {},
   "source": [
    "**Step 3: Write a function that takes in the board list object, a marker ('X' or 'O'), and a desired position (number 1-9) and assigns it to the board.**"
   ]
  },
  {
   "cell_type": "code",
   "execution_count": 5,
   "metadata": {},
   "outputs": [],
   "source": [
    "def place_marker(board, marker, position):\n",
    "    '''\n",
    "    accepts(board,marker,position)\n",
    "    displays the board with the input\n",
    "    edits the board object\n",
    "    \n",
    "    '''\n",
    "    \n",
    "    board[position] = marker\n",
    "    display_board(board)"
   ]
  },
  {
   "cell_type": "markdown",
   "metadata": {},
   "source": [
    "**TEST Step 3:** run the place marker function using test parameters and display the modified board"
   ]
  },
  {
   "cell_type": "code",
   "execution_count": 6,
   "metadata": {},
   "outputs": [
    {
     "name": "stdout",
     "output_type": "stream",
     "text": [
      " O | $ | O\n",
      "---|---|---\n",
      " O | X | O\n",
      "---|---|---\n",
      " O | O | X\n"
     ]
    },
    {
     "data": {
      "text/plain": [
       "[' ', 'O', 'O', 'X', 'O', 'X', 'O', 'O', '$', 'O']"
      ]
     },
     "execution_count": 6,
     "metadata": {},
     "output_type": "execute_result"
    }
   ],
   "source": [
    "place_marker(test_board,'$',8)\n",
    "test_board\n"
   ]
  },
  {
   "cell_type": "markdown",
   "metadata": {},
   "source": [
    "**Step 4: Write a function that takes in a board and a mark (X or O) and then checks to see if that mark has won. **"
   ]
  },
  {
   "cell_type": "code",
   "execution_count": 7,
   "metadata": {},
   "outputs": [],
   "source": [
    "def win_check(board, mark):\n",
    "    '''\n",
    "    returns a boolean\n",
    "    accepts(board, marks)\n",
    "    \n",
    "    '''\n",
    "    \n",
    "    wining_combination = [[1,2,3],[4,5,6],[7,8,9],[1,4,7],[2,5,8],[3,6,9],[3,5,7],[1,5,9]]\n",
    "    a = 0\n",
    "    \n",
    "    for win_key in wining_combination:\n",
    "        a=0\n",
    "        i = 0\n",
    "        #print(win_key)\n",
    "        while board[win_key[i]] == mark:\n",
    "            a+=1\n",
    "            i+=1\n",
    "            #print(a)\n",
    "            if i==3:\n",
    "                break\n",
    "        if a == 3:\n",
    "            break\n",
    "    return a == 3           \n"
   ]
  },
  {
   "cell_type": "code",
   "execution_count": 8,
   "metadata": {},
   "outputs": [
    {
     "name": "stdout",
     "output_type": "stream",
     "text": [
      " O | $ | O\n",
      "---|---|---\n",
      " O | X | O\n",
      "---|---|---\n",
      " O | O | X\n"
     ]
    }
   ],
   "source": [
    "win_check(test_board, \"O\")\n",
    "display_board(test_board)"
   ]
  },
  {
   "cell_type": "markdown",
   "metadata": {},
   "source": [
    "**TEST Step 4:** run the win_check function against our test_board - it should return True"
   ]
  },
  {
   "cell_type": "code",
   "execution_count": 9,
   "metadata": {},
   "outputs": [
    {
     "data": {
      "text/plain": [
       "True"
      ]
     },
     "execution_count": 9,
     "metadata": {},
     "output_type": "execute_result"
    }
   ],
   "source": [
    "win_check(test_board,'O')"
   ]
  },
  {
   "cell_type": "markdown",
   "metadata": {},
   "source": [
    "**Step 5: Write a function that uses the random module to randomly decide which player goes first. You may want to lookup random.randint() Return a string of which player went first.**"
   ]
  },
  {
   "cell_type": "code",
   "execution_count": 10,
   "metadata": {},
   "outputs": [],
   "source": [
    "import random\n",
    "\n",
    "def choose_first():\n",
    "    a = random.randint(1,2)\n",
    "    if a == 1:\n",
    "        return \"player1\"\n",
    "    else:\n",
    "        return \"player2\"\n",
    "#choose_first()\n"
   ]
  },
  {
   "cell_type": "markdown",
   "metadata": {},
   "source": [
    "**Step 6: Write a function that returns a boolean indicating whether a space on the board is freely available.**"
   ]
  },
  {
   "cell_type": "code",
   "execution_count": 11,
   "metadata": {},
   "outputs": [
    {
     "data": {
      "text/plain": [
       "False"
      ]
     },
     "execution_count": 11,
     "metadata": {},
     "output_type": "execute_result"
    }
   ],
   "source": [
    "def space_check(board, position):\n",
    "    '''\n",
    "    accepts(board, position)\n",
    "    returns boolean\n",
    "    \n",
    "    '''\n",
    "    \n",
    "    return board[position] == ' '\n",
    "space_check(test_board,1)"
   ]
  },
  {
   "cell_type": "markdown",
   "metadata": {},
   "source": [
    "**Step 7: Write a function that checks if the board is full and returns a boolean value. True if full, False otherwise.**"
   ]
  },
  {
   "cell_type": "code",
   "execution_count": 12,
   "metadata": {},
   "outputs": [
    {
     "data": {
      "text/plain": [
       "True"
      ]
     },
     "execution_count": 12,
     "metadata": {},
     "output_type": "execute_result"
    }
   ],
   "source": [
    "def full_board_check(board):\n",
    "    a = 0\n",
    "    for i in range(0,len(board)):\n",
    "        while board[i] != \" \":\n",
    "            a+=1\n",
    "            #print(a)\n",
    "            break\n",
    "    if a==9:\n",
    "        return True\n",
    "    else:\n",
    "        return False\n",
    "full_board_check(test_board)"
   ]
  },
  {
   "cell_type": "markdown",
   "metadata": {},
   "source": [
    "**Step 8: Write a function that asks for a player's next position (as a number 1-9) and then uses the function from step 6 to check if it's a free position. If it is, then return the position for later use.**"
   ]
  },
  {
   "cell_type": "code",
   "execution_count": 13,
   "metadata": {},
   "outputs": [],
   "source": [
    "def player_choice(board):\n",
    "    '''\n",
    "    accepts board\n",
    "    returns int that is position to which player want to play\n",
    "    \n",
    "    '''\n",
    "    \n",
    "    player_next_position = int(input(\"Position player want to play\"))\n",
    "    if space_check(board, player_next_position) == True:\n",
    "        return player_next_position\n",
    "    else:\n",
    "        print(\"Place not vacant \\n Choose again: \")\n",
    "        player_choice(board)\n",
    "    "
   ]
  },
  {
   "cell_type": "markdown",
   "metadata": {},
   "source": [
    "**Step 9: Write a function that asks the player if they want to play again and returns a boolean True if they do want to play again.**"
   ]
  },
  {
   "cell_type": "code",
   "execution_count": 14,
   "metadata": {},
   "outputs": [],
   "source": [
    "def replay():\n",
    "    \n",
    "    play_again = input(\"Do you want to play again Yes or No: \").lower()\n",
    "    print(\"Thanks for playing..!!\")\n",
    "    return play_game"
   ]
  },
  {
   "cell_type": "markdown",
   "metadata": {
    "collapsed": true
   },
   "source": [
    "**Step 10: Here comes the hard part! Use while loops and the functions you've made to run the game!**"
   ]
  },
  {
   "cell_type": "code",
   "execution_count": null,
   "metadata": {},
   "outputs": [
    {
     "name": "stdout",
     "output_type": "stream",
     "text": [
      "   |   |  \n",
      "---|---|---\n",
      "   |   |  \n",
      "---|---|---\n",
      "   |   |  \n"
     ]
    }
   ],
   "source": [
    "print('Welcome to Tic Tac Toe!')\n",
    "#play_game\n",
    "play_game = \"yes\"\n",
    "while play_game == \"yes\":\n",
    "    ready = input('Are you ready yes or no: ')\n",
    "    while ready == 'yes':\n",
    "        \n",
    "        #creating board value list, creating display board, choosing sign of player 1, choosing who will play first\n",
    "        \n",
    "        test_board = [' ',' ',' ',' ',' ',' ',' ',' ',' ',' ']\n",
    "        display_board(test_board)\n",
    "        player1_marker,player2_marker = player_input()\n",
    "        turn = choose_first()\n",
    "        print(f\"{turn} plays first\")\n",
    "        \n",
    "        #checking if board is not full\n",
    "    \n",
    "        game_on = not full_board_check(test_board)\n",
    "        while game_on:\n",
    "            if turn == \"player1\":#player1 plays first\n",
    "            \n",
    "                #accepting position at which player1 wants to play\n",
    "                \n",
    "                position = player_choice(test_board)\n",
    "                \n",
    "                #place marker on the board and displaying\n",
    "                \n",
    "                place_marker(test_board, player1_marker, position)\n",
    "                \n",
    "                \n",
    "                \n",
    "                \n",
    "                \n",
    "                #checking if player1 wins \n",
    "                \n",
    "                if win_check(test_board, player1_marker) == True:\n",
    "                    print(f\"{player1_marker} wins\")\n",
    "                    ready = \"no\"\n",
    "                    break\n",
    "                    \n",
    "                if full_board_check(test_board) == True:\n",
    "                    print(\"It's a tie\")\n",
    "                    ready = \"no\"\n",
    "                    break\n",
    "                    \n",
    "                #changing value of turn so that player2 plays\n",
    "                \n",
    "                turn = \"player2\"\n",
    "        \n",
    "        \n",
    "            else:#player2 plays\n",
    "                #accepting position at which player2 wants to play\n",
    "                \n",
    "                position = player_choice(test_board)\n",
    "                \n",
    "                #place marker on the board and displaying\n",
    "                \n",
    "                place_marker(test_board, player2_marker, position)\n",
    "                \n",
    "                #checking if player2 wins \n",
    "                \n",
    "                if win_check(test_board, player2_marker) == True:\n",
    "                    print(f\"{player2_marker} wins\")\n",
    "                    ready = \"no\"\n",
    "                    break\n",
    "                if full_board_check(test_board) == True:\n",
    "                    print(\"It's a tie\")\n",
    "                    ready = \"no\"\n",
    "                    break\n",
    "                    \n",
    "                #changing value of turn so that player1 plays\n",
    "                \n",
    "                turn = \"player1\"\n",
    "   \n",
    "                    \n",
    "            #full_board_check()\n",
    "\n",
    "    replay()\n",
    "\n",
    "\n",
    "#while True:\n",
    "    # Set the game up here\n",
    "    #pass\n",
    "\n",
    "    #while game_on:\n",
    "        #Player 1 Turn\n",
    "        \n",
    "        \n",
    "        # Player2's turn.\n",
    "            \n",
    "            #pass\n",
    "\n",
    "    #if not replay():\n",
    "        #break"
   ]
  },
  {
   "cell_type": "markdown",
   "metadata": {
    "collapsed": true
   },
   "source": [
    "## Good Job!"
   ]
  },
  {
   "cell_type": "code",
   "execution_count": null,
   "metadata": {},
   "outputs": [],
   "source": []
  },
  {
   "cell_type": "code",
   "execution_count": null,
   "metadata": {},
   "outputs": [],
   "source": []
  }
 ],
 "metadata": {
  "kernelspec": {
   "display_name": "Python 3",
   "language": "python",
   "name": "python3"
  },
  "language_info": {
   "codemirror_mode": {
    "name": "ipython",
    "version": 3
   },
   "file_extension": ".py",
   "mimetype": "text/x-python",
   "name": "python",
   "nbconvert_exporter": "python",
   "pygments_lexer": "ipython3",
   "version": "3.7.4"
  }
 },
 "nbformat": 4,
 "nbformat_minor": 1
}
